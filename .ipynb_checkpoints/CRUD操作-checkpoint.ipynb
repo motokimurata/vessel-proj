{
 "cells": [
  {
   "cell_type": "code",
   "execution_count": 1,
   "id": "0629b278",
   "metadata": {},
   "outputs": [],
   "source": [
    "from assets.database import db_session\n",
    "from assets.database import init_db\n",
    "from assets.models import Data\n",
    "\n",
    "import datetime\n"
   ]
  },
  {
   "cell_type": "code",
   "execution_count": 2,
   "id": "e4481d56",
   "metadata": {},
   "outputs": [
    {
     "name": "stdout",
     "output_type": "stream",
     "text": [
      "2021-07-23 11:42:32,533 INFO sqlalchemy.engine.Engine BEGIN (implicit)\n",
      "2021-07-23 11:42:32,535 INFO sqlalchemy.engine.Engine PRAGMA main.table_info(\"data\")\n",
      "2021-07-23 11:42:32,536 INFO sqlalchemy.engine.Engine [raw sql] ()\n",
      "2021-07-23 11:42:32,538 INFO sqlalchemy.engine.Engine PRAGMA temp.table_info(\"data\")\n",
      "2021-07-23 11:42:32,538 INFO sqlalchemy.engine.Engine [raw sql] ()\n",
      "2021-07-23 11:42:32,540 INFO sqlalchemy.engine.Engine \n",
      "CREATE TABLE data (\n",
      "\tid INTEGER NOT NULL, \n",
      "\tdate DATE, \n",
      "\tsubscribers INTEGER, \n",
      "\treviews INTEGER, \n",
      "\ttimestamp DATETIME, \n",
      "\tPRIMARY KEY (id)\n",
      ")\n",
      "\n",
      "\n",
      "2021-07-23 11:42:32,540 INFO sqlalchemy.engine.Engine [no key 0.00064s] ()\n",
      "2021-07-23 11:42:32,548 INFO sqlalchemy.engine.Engine COMMIT\n"
     ]
    }
   ],
   "source": [
    "init_db()"
   ]
  },
  {
   "cell_type": "code",
   "execution_count": 3,
   "id": "9c435711",
   "metadata": {},
   "outputs": [
    {
     "data": {
      "text/plain": [
       "datetime.date(2021, 7, 23)"
      ]
     },
     "execution_count": 3,
     "metadata": {},
     "output_type": "execute_result"
    }
   ],
   "source": [
    "date = datetime.date.today()\n",
    "date"
   ]
  },
  {
   "cell_type": "code",
   "execution_count": 4,
   "id": "b9ce994e",
   "metadata": {},
   "outputs": [],
   "source": [
    "row=Data(date=date,subscribers=3500,reviews=200)"
   ]
  },
  {
   "cell_type": "code",
   "execution_count": 5,
   "id": "53bf78c6",
   "metadata": {},
   "outputs": [
    {
     "data": {
      "text/plain": [
       "<assets.models.Data at 0x1e569d5b6a0>"
      ]
     },
     "execution_count": 5,
     "metadata": {},
     "output_type": "execute_result"
    }
   ],
   "source": [
    "row"
   ]
  },
  {
   "cell_type": "code",
   "execution_count": 6,
   "id": "d15fe1df",
   "metadata": {},
   "outputs": [
    {
     "data": {
      "text/plain": [
       "datetime.date(2021, 7, 23)"
      ]
     },
     "execution_count": 6,
     "metadata": {},
     "output_type": "execute_result"
    }
   ],
   "source": [
    "row.date"
   ]
  },
  {
   "cell_type": "code",
   "execution_count": 7,
   "id": "0a46a581",
   "metadata": {},
   "outputs": [
    {
     "data": {
      "text/plain": [
       "3500"
      ]
     },
     "execution_count": 7,
     "metadata": {},
     "output_type": "execute_result"
    }
   ],
   "source": [
    "row.subscribers"
   ]
  },
  {
   "cell_type": "code",
   "execution_count": 8,
   "id": "33ec4d04",
   "metadata": {},
   "outputs": [],
   "source": [
    "db_session.add(row)"
   ]
  },
  {
   "cell_type": "code",
   "execution_count": 9,
   "id": "cad3c7ee",
   "metadata": {},
   "outputs": [
    {
     "name": "stdout",
     "output_type": "stream",
     "text": [
      "2021-07-23 11:47:02,914 INFO sqlalchemy.engine.Engine BEGIN (implicit)\n",
      "2021-07-23 11:47:02,923 INFO sqlalchemy.engine.Engine INSERT INTO data (date, subscribers, reviews, timestamp) VALUES (?, ?, ?, ?)\n",
      "2021-07-23 11:47:02,925 INFO sqlalchemy.engine.Engine [generated in 0.00154s] ('2021-07-23', 3500, 200, '2021-07-23 11:42:17.032162')\n",
      "2021-07-23 11:47:02,931 INFO sqlalchemy.engine.Engine COMMIT\n"
     ]
    }
   ],
   "source": [
    "db_session.commit()"
   ]
  },
  {
   "cell_type": "code",
   "execution_count": 10,
   "id": "faa847e1",
   "metadata": {},
   "outputs": [],
   "source": [
    "row1=Data(date=date,subscribers=6500,reviews=210)\n",
    "row2=Data(date=date,subscribers=1500,reviews=220)"
   ]
  },
  {
   "cell_type": "code",
   "execution_count": 11,
   "id": "2e15ec2a",
   "metadata": {},
   "outputs": [],
   "source": [
    "db_session.add(row1)\n",
    "db_session.add(row2)"
   ]
  },
  {
   "cell_type": "code",
   "execution_count": 12,
   "id": "b3b2fa5f",
   "metadata": {},
   "outputs": [
    {
     "name": "stdout",
     "output_type": "stream",
     "text": [
      "2021-07-23 11:49:59,547 INFO sqlalchemy.engine.Engine BEGIN (implicit)\n",
      "2021-07-23 11:49:59,551 INFO sqlalchemy.engine.Engine INSERT INTO data (date, subscribers, reviews, timestamp) VALUES (?, ?, ?, ?)\n",
      "2021-07-23 11:49:59,553 INFO sqlalchemy.engine.Engine [cached since 176.6s ago] ('2021-07-23', 6500, 210, '2021-07-23 11:42:17.032162')\n",
      "2021-07-23 11:49:59,556 INFO sqlalchemy.engine.Engine INSERT INTO data (date, subscribers, reviews, timestamp) VALUES (?, ?, ?, ?)\n",
      "2021-07-23 11:49:59,557 INFO sqlalchemy.engine.Engine [cached since 176.6s ago] ('2021-07-23', 1500, 220, '2021-07-23 11:42:17.032162')\n",
      "2021-07-23 11:49:59,559 INFO sqlalchemy.engine.Engine COMMIT\n"
     ]
    }
   ],
   "source": [
    "db_session.commit()"
   ]
  },
  {
   "cell_type": "code",
   "execution_count": 14,
   "id": "5f540de0",
   "metadata": {},
   "outputs": [
    {
     "name": "stdout",
     "output_type": "stream",
     "text": [
      "2021-07-23 11:51:28,933 INFO sqlalchemy.engine.Engine BEGIN (implicit)\n",
      "2021-07-23 11:51:28,935 INFO sqlalchemy.engine.Engine SELECT data.id AS data_id, data.date AS data_date, data.subscribers AS data_subscribers, data.reviews AS data_reviews, data.timestamp AS data_timestamp \n",
      "FROM data\n",
      "2021-07-23 11:51:28,938 INFO sqlalchemy.engine.Engine [generated in 0.00286s] ()\n"
     ]
    },
    {
     "data": {
      "text/plain": [
       "[<assets.models.Data at 0x1e569d5b6a0>,\n",
       " <assets.models.Data at 0x1e569dc7850>,\n",
       " <assets.models.Data at 0x1e569dc71f0>]"
      ]
     },
     "execution_count": 14,
     "metadata": {},
     "output_type": "execute_result"
    }
   ],
   "source": [
    "db_session.query(Data).all()"
   ]
  },
  {
   "cell_type": "code",
   "execution_count": 16,
   "id": "38273793",
   "metadata": {},
   "outputs": [
    {
     "name": "stdout",
     "output_type": "stream",
     "text": [
      "2021-07-23 11:52:29,090 INFO sqlalchemy.engine.Engine SELECT data.id AS data_id, data.date AS data_date, data.subscribers AS data_subscribers, data.reviews AS data_reviews, data.timestamp AS data_timestamp \n",
      "FROM data\n",
      "2021-07-23 11:52:29,091 INFO sqlalchemy.engine.Engine [cached since 60.16s ago] ()\n"
     ]
    },
    {
     "data": {
      "text/plain": [
       "1500"
      ]
     },
     "execution_count": 16,
     "metadata": {},
     "output_type": "execute_result"
    }
   ],
   "source": [
    "db_session.query(Data).all()[2].subscribers"
   ]
  },
  {
   "cell_type": "code",
   "execution_count": 18,
   "id": "bbbcac48",
   "metadata": {},
   "outputs": [
    {
     "name": "stdout",
     "output_type": "stream",
     "text": [
      "2021-07-23 11:53:05,138 INFO sqlalchemy.engine.Engine SELECT data.id AS data_id, data.date AS data_date, data.subscribers AS data_subscribers, data.reviews AS data_reviews, data.timestamp AS data_timestamp \n",
      "FROM data\n",
      "2021-07-23 11:53:05,139 INFO sqlalchemy.engine.Engine [cached since 96.2s ago] ()\n"
     ]
    }
   ],
   "source": [
    "datum=db_session.query(Data).all()[0]"
   ]
  },
  {
   "cell_type": "code",
   "execution_count": 19,
   "id": "f63208de",
   "metadata": {},
   "outputs": [
    {
     "data": {
      "text/plain": [
       "<assets.models.Data at 0x1e569d5b6a0>"
      ]
     },
     "execution_count": 19,
     "metadata": {},
     "output_type": "execute_result"
    }
   ],
   "source": [
    "datum"
   ]
  },
  {
   "cell_type": "code",
   "execution_count": 20,
   "id": "93005e03",
   "metadata": {},
   "outputs": [],
   "source": [
    "datum.subscribers = 10000"
   ]
  },
  {
   "cell_type": "code",
   "execution_count": 21,
   "id": "26b5fd61",
   "metadata": {},
   "outputs": [],
   "source": [
    "db_session.add(datum)"
   ]
  },
  {
   "cell_type": "code",
   "execution_count": 22,
   "id": "08559e88",
   "metadata": {},
   "outputs": [
    {
     "name": "stdout",
     "output_type": "stream",
     "text": [
      "2021-07-23 11:53:56,029 INFO sqlalchemy.engine.Engine UPDATE data SET subscribers=? WHERE data.id = ?\n",
      "2021-07-23 11:53:56,030 INFO sqlalchemy.engine.Engine [generated in 0.00130s] (10000, 1)\n",
      "2021-07-23 11:53:56,032 INFO sqlalchemy.engine.Engine COMMIT\n"
     ]
    }
   ],
   "source": [
    "db_session.commit()"
   ]
  },
  {
   "cell_type": "code",
   "execution_count": 23,
   "id": "9d5c50f9",
   "metadata": {},
   "outputs": [
    {
     "name": "stdout",
     "output_type": "stream",
     "text": [
      "2021-07-23 11:54:15,844 INFO sqlalchemy.engine.Engine BEGIN (implicit)\n",
      "2021-07-23 11:54:15,845 INFO sqlalchemy.engine.Engine SELECT data.id AS data_id, data.date AS data_date, data.subscribers AS data_subscribers, data.reviews AS data_reviews, data.timestamp AS data_timestamp \n",
      "FROM data\n",
      "2021-07-23 11:54:15,845 INFO sqlalchemy.engine.Engine [cached since 166.9s ago] ()\n"
     ]
    },
    {
     "data": {
      "text/plain": [
       "10000"
      ]
     },
     "execution_count": 23,
     "metadata": {},
     "output_type": "execute_result"
    }
   ],
   "source": [
    "db_session.query(Data).all()[0].subscribers"
   ]
  },
  {
   "cell_type": "code",
   "execution_count": 26,
   "id": "a766cdcc",
   "metadata": {},
   "outputs": [
    {
     "name": "stdout",
     "output_type": "stream",
     "text": [
      "2021-07-23 11:55:17,337 INFO sqlalchemy.engine.Engine SELECT data.id AS data_id, data.date AS data_date, data.subscribers AS data_subscribers, data.reviews AS data_reviews, data.timestamp AS data_timestamp \n",
      "FROM data \n",
      "WHERE data.subscribers = ?\n",
      "2021-07-23 11:55:17,340 INFO sqlalchemy.engine.Engine [cached since 10.62s ago] (10000,)\n"
     ]
    }
   ],
   "source": [
    "datum = db_session.query(Data).filter_by(subscribers=10000).one()"
   ]
  },
  {
   "cell_type": "code",
   "execution_count": 27,
   "id": "db8d5322",
   "metadata": {},
   "outputs": [],
   "source": [
    "db_session.delete(datum)"
   ]
  },
  {
   "cell_type": "code",
   "execution_count": 28,
   "id": "ab758780",
   "metadata": {},
   "outputs": [
    {
     "name": "stdout",
     "output_type": "stream",
     "text": [
      "2021-07-23 11:55:44,415 INFO sqlalchemy.engine.Engine DELETE FROM data WHERE data.id = ?\n",
      "2021-07-23 11:55:44,416 INFO sqlalchemy.engine.Engine [generated in 0.00100s] (1,)\n",
      "2021-07-23 11:55:44,422 INFO sqlalchemy.engine.Engine COMMIT\n"
     ]
    }
   ],
   "source": [
    "db_session.commit()"
   ]
  },
  {
   "cell_type": "code",
   "execution_count": 29,
   "id": "7b95a29b",
   "metadata": {},
   "outputs": [
    {
     "name": "stdout",
     "output_type": "stream",
     "text": [
      "2021-07-23 11:56:08,577 INFO sqlalchemy.engine.Engine BEGIN (implicit)\n",
      "2021-07-23 11:56:08,577 INFO sqlalchemy.engine.Engine SELECT data.id AS data_id, data.date AS data_date, data.subscribers AS data_subscribers, data.reviews AS data_reviews, data.timestamp AS data_timestamp \n",
      "FROM data\n",
      "2021-07-23 11:56:08,577 INFO sqlalchemy.engine.Engine [cached since 279.6s ago] ()\n"
     ]
    },
    {
     "data": {
      "text/plain": [
       "2"
      ]
     },
     "execution_count": 29,
     "metadata": {},
     "output_type": "execute_result"
    }
   ],
   "source": [
    "len(db_session.query(Data).all())"
   ]
  },
  {
   "cell_type": "code",
   "execution_count": 30,
   "id": "e9e2ab19",
   "metadata": {},
   "outputs": [
    {
     "name": "stdout",
     "output_type": "stream",
     "text": [
      "2021-07-23 11:56:23,041 INFO sqlalchemy.engine.Engine DELETE FROM data\n",
      "2021-07-23 11:56:23,042 INFO sqlalchemy.engine.Engine [generated in 0.00151s] ()\n"
     ]
    },
    {
     "data": {
      "text/plain": [
       "2"
      ]
     },
     "execution_count": 30,
     "metadata": {},
     "output_type": "execute_result"
    }
   ],
   "source": [
    "Data.query.delete()"
   ]
  },
  {
   "cell_type": "code",
   "execution_count": null,
   "id": "5e18abdd",
   "metadata": {},
   "outputs": [],
   "source": []
  },
  {
   "cell_type": "code",
   "execution_count": null,
   "id": "1985a9ad",
   "metadata": {},
   "outputs": [],
   "source": []
  },
  {
   "cell_type": "code",
   "execution_count": null,
   "id": "404a8d5d",
   "metadata": {},
   "outputs": [],
   "source": []
  },
  {
   "cell_type": "code",
   "execution_count": null,
   "id": "2db3100f",
   "metadata": {},
   "outputs": [],
   "source": []
  },
  {
   "cell_type": "code",
   "execution_count": null,
   "id": "99cd6df2",
   "metadata": {},
   "outputs": [],
   "source": []
  }
 ],
 "metadata": {
  "kernelspec": {
   "display_name": "Python 3",
   "language": "python",
   "name": "python3"
  },
  "language_info": {
   "codemirror_mode": {
    "name": "ipython",
    "version": 3
   },
   "file_extension": ".py",
   "mimetype": "text/x-python",
   "name": "python",
   "nbconvert_exporter": "python",
   "pygments_lexer": "ipython3",
   "version": "3.8.8"
  }
 },
 "nbformat": 4,
 "nbformat_minor": 5
}
