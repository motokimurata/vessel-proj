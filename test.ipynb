{
 "cells": [
  {
   "cell_type": "code",
   "execution_count": 6,
   "source": [
    "import dash\r\n",
    "import dash_table\r\n",
    "import dash_core_components as dcc\r\n",
    "import dash_html_components as html\r\n",
    "from dash.dependencies import Input, Output\r\n",
    "import pandas as pd\r\n",
    "from work.app.assets.database import db_session\r\n",
    "from work.app.assets.models import Data\r\n",
    "\r\n",
    "\r\n",
    "\r\n",
    "external_stylesheets = ['https://codepen.io/chriddyp/pen/bWLwgP.css']\r\n",
    "\r\n",
    "data = db_session.query(Data.Vessel,Data.Carrier,Data.Voyage,Data.Service,Data.Pod,Data.ETA,Data.Berthing,Data.timestamp).all\r\n",
    "\r\n",
    "header=['vessel','carrier','voyage No.','service','POD', 'ETA','Berthing','update time']\r\n",
    "\r\n",
    "vessel = []\r\n",
    "carrier = []\r\n",
    "voyage = []\r\n",
    "service = []\r\n",
    "pod = []\r\n",
    "eta = []\r\n",
    "berthing = []\r\n",
    "update = []\r\n",
    "\r\n",
    "\r\n",
    "for datum in data:\r\n",
    "    vessel.append(datum.Vessel)\r\n",
    "    carrier.append(datum.Carrier)\r\n",
    "    voyage.append(datum.Voyage)\r\n",
    "    service.append(datum.Service)\r\n",
    "    pod.append(datum.Pod)\r\n",
    "    eta.append(datum.ETA)\r\n",
    "    berthing.append(datum.Berthing)\r\n",
    "    update.append(datum.timestamp)\r\n",
    "\r\n",
    "df = pd.DataFrame(list(zip(vessel,carrier,voyage,service,pod,eta,berthing,update),columns = header))\r\n",
    "\r\n",
    "print(df)\r\n"
   ],
   "outputs": [
    {
     "output_type": "error",
     "ename": "TypeError",
     "evalue": "'method' object is not iterable",
     "traceback": [
      "\u001b[1;31m---------------------------------------------------------------------------\u001b[0m",
      "\u001b[1;31mTypeError\u001b[0m                                 Traceback (most recent call last)",
      "\u001b[1;32m<ipython-input-6-e9b4e02dab97>\u001b[0m in \u001b[0;36m<module>\u001b[1;34m\u001b[0m\n\u001b[0;32m     26\u001b[0m \u001b[1;33m\u001b[0m\u001b[0m\n\u001b[0;32m     27\u001b[0m \u001b[1;33m\u001b[0m\u001b[0m\n\u001b[1;32m---> 28\u001b[1;33m \u001b[1;32mfor\u001b[0m \u001b[0mdatum\u001b[0m \u001b[1;32min\u001b[0m \u001b[0mdata\u001b[0m\u001b[1;33m:\u001b[0m\u001b[1;33m\u001b[0m\u001b[1;33m\u001b[0m\u001b[0m\n\u001b[0m\u001b[0;32m     29\u001b[0m     \u001b[0mvessel\u001b[0m\u001b[1;33m.\u001b[0m\u001b[0mappend\u001b[0m\u001b[1;33m(\u001b[0m\u001b[0mdatum\u001b[0m\u001b[1;33m.\u001b[0m\u001b[0mVessel\u001b[0m\u001b[1;33m)\u001b[0m\u001b[1;33m\u001b[0m\u001b[1;33m\u001b[0m\u001b[0m\n\u001b[0;32m     30\u001b[0m     \u001b[0mcarrier\u001b[0m\u001b[1;33m.\u001b[0m\u001b[0mappend\u001b[0m\u001b[1;33m(\u001b[0m\u001b[0mdatum\u001b[0m\u001b[1;33m.\u001b[0m\u001b[0mCarrier\u001b[0m\u001b[1;33m)\u001b[0m\u001b[1;33m\u001b[0m\u001b[1;33m\u001b[0m\u001b[0m\n",
      "\u001b[1;31mTypeError\u001b[0m: 'method' object is not iterable"
     ]
    }
   ],
   "metadata": {}
  },
  {
   "cell_type": "code",
   "execution_count": null,
   "source": [],
   "outputs": [],
   "metadata": {}
  },
  {
   "cell_type": "code",
   "execution_count": null,
   "source": [],
   "outputs": [],
   "metadata": {}
  }
 ],
 "metadata": {
  "orig_nbformat": 4,
  "language_info": {
   "name": "python"
  }
 },
 "nbformat": 4,
 "nbformat_minor": 2
}