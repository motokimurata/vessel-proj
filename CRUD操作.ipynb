{
 "cells": [
  {
   "cell_type": "code",
   "execution_count": 1,
   "source": [
    "from assets.database import db_session\r\n",
    "from assets.database import init_db\r\n",
    "from assets.models import Data\r\n",
    "\r\n",
    "import datetime\r\n"
   ],
   "outputs": [],
   "metadata": {}
  },
  {
   "cell_type": "code",
   "execution_count": 2,
   "source": [
    "init_db()"
   ],
   "outputs": [
    {
     "output_type": "stream",
     "name": "stdout",
     "text": [
      "2021-07-23 14:43:18,366 INFO sqlalchemy.engine.Engine BEGIN (implicit)\n",
      "2021-07-23 14:43:18,372 INFO sqlalchemy.engine.Engine PRAGMA main.table_info(\"data\")\n",
      "2021-07-23 14:43:18,372 INFO sqlalchemy.engine.Engine [raw sql] ()\n",
      "2021-07-23 14:43:18,372 INFO sqlalchemy.engine.Engine PRAGMA temp.table_info(\"data\")\n",
      "2021-07-23 14:43:18,372 INFO sqlalchemy.engine.Engine [raw sql] ()\n",
      "2021-07-23 14:43:18,380 INFO sqlalchemy.engine.Engine \n",
      "CREATE TABLE data (\n",
      "\tid INTEGER NOT NULL, \n",
      "\t\"Vessel\" VARCHAR, \n",
      "\t\"Carrier\" VARCHAR, \n",
      "\t\"Voyage\" VARCHAR, \n",
      "\t\"Pod\" VARCHAR, \n",
      "\t\"ETA\" VARCHAR, \n",
      "\t\"Berthing\" VARCHAR, \n",
      "\ttimestamp DATETIME, \n",
      "\tPRIMARY KEY (id)\n",
      ")\n",
      "\n",
      "\n",
      "2021-07-23 14:43:18,380 INFO sqlalchemy.engine.Engine [no key 0.00125s] ()\n",
      "2021-07-23 14:43:18,388 INFO sqlalchemy.engine.Engine COMMIT\n"
     ]
    }
   ],
   "metadata": {}
  },
  {
   "cell_type": "code",
   "execution_count": 3,
   "source": [
    "date = datetime.date.today()\r\n",
    "date"
   ],
   "outputs": [
    {
     "output_type": "execute_result",
     "data": {
      "text/plain": [
       "datetime.date(2021, 7, 23)"
      ]
     },
     "metadata": {},
     "execution_count": 3
    }
   ],
   "metadata": {}
  },
  {
   "cell_type": "code",
   "execution_count": 4,
   "source": [
    "row=Data(Vessel=\"aaa\",Carrier=\"bbb\",Voyage=\"ccc\",Service=\"ddd\",Pod=\"eee\",ETA=\"fff\",Berthing=\"ggg\")"
   ],
   "outputs": [],
   "metadata": {}
  },
  {
   "cell_type": "code",
   "execution_count": 5,
   "source": [
    "row"
   ],
   "outputs": [
    {
     "output_type": "execute_result",
     "data": {
      "text/plain": [
       "<assets.models.Data at 0x1b7f8ef57f0>"
      ]
     },
     "metadata": {},
     "execution_count": 5
    }
   ],
   "metadata": {}
  },
  {
   "cell_type": "code",
   "execution_count": 6,
   "source": [
    "row.Vessel"
   ],
   "outputs": [
    {
     "output_type": "execute_result",
     "data": {
      "text/plain": [
       "'aaa'"
      ]
     },
     "metadata": {},
     "execution_count": 6
    }
   ],
   "metadata": {}
  },
  {
   "cell_type": "code",
   "execution_count": 7,
   "source": [
    "db_session.add(row)"
   ],
   "outputs": [],
   "metadata": {}
  },
  {
   "cell_type": "code",
   "execution_count": null,
   "source": [],
   "outputs": [],
   "metadata": {}
  },
  {
   "cell_type": "code",
   "execution_count": null,
   "source": [],
   "outputs": [],
   "metadata": {}
  },
  {
   "cell_type": "code",
   "execution_count": 8,
   "source": [
    "db_session.commit()"
   ],
   "outputs": [
    {
     "output_type": "stream",
     "name": "stdout",
     "text": [
      "2021-07-23 14:43:19,094 INFO sqlalchemy.engine.Engine BEGIN (implicit)\n",
      "2021-07-23 14:43:19,101 INFO sqlalchemy.engine.Engine INSERT INTO data (\"Vessel\", \"Carrier\", \"Voyage\", \"Pod\", \"ETA\", \"Berthing\", timestamp) VALUES (?, ?, ?, ?, ?, ?, ?)\n",
      "2021-07-23 14:43:19,101 INFO sqlalchemy.engine.Engine [generated in 0.00307s] ('aaa', 'bbb', 'ccc', 'eee', 'fff', 'ggg', '2021-07-23 14:43:18.334493')\n",
      "2021-07-23 14:43:19,109 INFO sqlalchemy.engine.Engine COMMIT\n"
     ]
    }
   ],
   "metadata": {}
  },
  {
   "cell_type": "code",
   "execution_count": 9,
   "source": [
    "db_session.query(Data).all()"
   ],
   "outputs": [
    {
     "output_type": "stream",
     "name": "stdout",
     "text": [
      "2021-07-23 14:43:19,205 INFO sqlalchemy.engine.Engine BEGIN (implicit)\n",
      "2021-07-23 14:43:19,213 INFO sqlalchemy.engine.Engine SELECT data.id AS data_id, data.\"Vessel\" AS \"data_Vessel\", data.\"Carrier\" AS \"data_Carrier\", data.\"Voyage\" AS \"data_Voyage\", data.\"Pod\" AS \"data_Pod\", data.\"ETA\" AS \"data_ETA\", data.\"Berthing\" AS \"data_Berthing\", data.timestamp AS data_timestamp \n",
      "FROM data\n",
      "2021-07-23 14:43:19,213 INFO sqlalchemy.engine.Engine [generated in 0.00241s] ()\n"
     ]
    },
    {
     "output_type": "execute_result",
     "data": {
      "text/plain": [
       "[<assets.models.Data at 0x1b7f8ef57f0>]"
      ]
     },
     "metadata": {},
     "execution_count": 9
    }
   ],
   "metadata": {}
  },
  {
   "cell_type": "code",
   "execution_count": 10,
   "source": [
    "db_session.close()"
   ],
   "outputs": [
    {
     "output_type": "stream",
     "name": "stdout",
     "text": [
      "2021-07-23 14:43:19,326 INFO sqlalchemy.engine.Engine ROLLBACK\n"
     ]
    }
   ],
   "metadata": {}
  },
  {
   "cell_type": "code",
   "execution_count": null,
   "source": [],
   "outputs": [],
   "metadata": {}
  },
  {
   "cell_type": "code",
   "execution_count": null,
   "source": [],
   "outputs": [],
   "metadata": {}
  },
  {
   "cell_type": "code",
   "execution_count": null,
   "source": [],
   "outputs": [],
   "metadata": {}
  },
  {
   "cell_type": "code",
   "execution_count": null,
   "source": [],
   "outputs": [],
   "metadata": {}
  },
  {
   "cell_type": "code",
   "execution_count": null,
   "source": [],
   "outputs": [],
   "metadata": {}
  }
 ],
 "metadata": {
  "kernelspec": {
   "name": "python3",
   "display_name": "Python 3.8.8 64-bit ('py02env': conda)"
  },
  "language_info": {
   "codemirror_mode": {
    "name": "ipython",
    "version": 3
   },
   "file_extension": ".py",
   "mimetype": "text/x-python",
   "name": "python",
   "nbconvert_exporter": "python",
   "pygments_lexer": "ipython3",
   "version": "3.8.8"
  },
  "interpreter": {
   "hash": "89bf15db5789818cc44264e459b13ce349cc56e7ef190ace1eb878b317013779"
  }
 },
 "nbformat": 4,
 "nbformat_minor": 5
}